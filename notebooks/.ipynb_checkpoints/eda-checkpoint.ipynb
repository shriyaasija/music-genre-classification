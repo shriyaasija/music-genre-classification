{
 "cells": [
  {
   "cell_type": "code",
   "execution_count": null,
   "id": "cf1425f6",
   "metadata": {
    "vscode": {
     "languageId": "plaintext"
    }
   },
   "outputs": [
    {
     "ename": "",
     "evalue": "",
     "output_type": "error",
     "traceback": [
      "\u001b[1;31mFailed to start the Kernel. \n",
      "\u001b[1;31mOSError: octave not found, please see README. \n",
      "\u001b[1;31mView Jupyter <a href='command:jupyter.viewOutput'>log</a> for further details."
     ]
    }
   ],
   "source": [
    "sys.path.append('..')\n",
    "from src.data.spectrogram_loader import GTZANSpectrogramDataset, create_spectrogram_loaders"
   ]
  },
  {
   "cell_type": "code",
   "execution_count": null,
   "id": "e4833178",
   "metadata": {
    "vscode": {
     "languageId": "plaintext"
    }
   },
   "outputs": [],
   "source": []
  }
 ],
 "metadata": {
  "kernelspec": {
   "display_name": "Octave",
   "language": "octave",
   "name": "octave"
  },
  "language_info": {
   "name": "octave"
  }
 },
 "nbformat": 4,
 "nbformat_minor": 5
}
